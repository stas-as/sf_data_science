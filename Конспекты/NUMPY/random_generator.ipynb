{
 "cells": [
  {
   "attachments": {},
   "cell_type": "markdown",
   "metadata": {},
   "source": [
    "Самой «базовой» функцией в нём можно считать функцию **.rand**. По умолчанию она генерирует число с плавающей точкой между 0 (включительно) и 1 (не включительно):"
   ]
  },
  {
   "cell_type": "code",
   "execution_count": 3,
   "metadata": {},
   "outputs": [
    {
     "name": "stdout",
     "output_type": "stream",
     "text": [
      "[0.91272803 0.2692693  0.5987656  0.02328261 0.27549333]\n",
      "[[63.17747709  6.40717693 78.78475658 79.62086881 89.14684707]\n",
      " [10.1440809  99.62065606 36.78923896 48.18766667 92.25916171]]\n"
     ]
    }
   ],
   "source": [
    "import numpy as np\n",
    "print(np.random.rand(5))\n",
    "print(np.random.rand(2,5) * 100)"
   ]
  },
  {
   "attachments": {},
   "cell_type": "markdown",
   "metadata": {},
   "source": [
    "Возможно, именно функция **sample** покажется вам удобнее, поскольку информацию о форме массива обычно удобнее хранить в коде в виде кортежа и не задумываться потом о его распаковке. В остальном функция **sample** не отличается от **rand**."
   ]
  },
  {
   "cell_type": "code",
   "execution_count": 5,
   "metadata": {},
   "outputs": [
    {
     "data": {
      "text/plain": [
       "array([[0.98892236, 0.80981393, 0.81596797],\n",
       "       [0.31671784, 0.14789588, 0.33617699]])"
      ]
     },
     "execution_count": 5,
     "metadata": {},
     "output_type": "execute_result"
    }
   ],
   "source": [
    "a = (2, 3)\n",
    "np.random.sample(a)"
   ]
  },
  {
   "attachments": {},
   "cell_type": "markdown",
   "metadata": {},
   "source": [
    "Первые два аргумента — нижняя и верхняя границы диапазона в формате float, третий опциональный аргумент — форма массива (если не задан, возвращается одно число). Форма массива задаётся кортежем или одним числом.\n",
    "\n",
    "np.random.uniform(low=0.0, high=1.0, size=None)"
   ]
  },
  {
   "cell_type": "code",
   "execution_count": 13,
   "metadata": {},
   "outputs": [
    {
     "data": {
      "text/plain": [
       "array([[17.6311459 , 16.11952839, 18.99282121, 18.5807429 , 15.6685196 ],\n",
       "       [14.25464639, 14.70012041, 20.98800732, 12.7360949 , 20.54591966],\n",
       "       [20.14947916, 11.33312164, 10.13079633, 19.285158  , 12.00396371],\n",
       "       [16.62274142, 19.34361582, 18.3360975 , 16.78661645, 17.29261798],\n",
       "       [12.29737814, 17.41602245, 16.45868335, 12.28278099, 15.36373814]])"
      ]
     },
     "execution_count": 13,
     "metadata": {},
     "output_type": "execute_result"
    }
   ],
   "source": [
    "np.random.uniform(10, 21, size=(5, 5) )"
   ]
  },
  {
   "attachments": {},
   "cell_type": "markdown",
   "metadata": {},
   "source": [
    "ГЕНЕРАЦИЯ INT\n",
    "\n",
    "np.random.randint(low, high=None, size=None, dtype=int)"
   ]
  },
  {
   "cell_type": "code",
   "execution_count": 20,
   "metadata": {},
   "outputs": [
    {
     "data": {
      "text/plain": [
       "array([[8, 3, 4, 4, 2],\n",
       "       [4, 6, 1, 1, 5],\n",
       "       [6, 4, 2, 7, 8],\n",
       "       [3, 6, 5, 6, 5],\n",
       "       [5, 1, 7, 1, 1]], dtype=int16)"
      ]
     },
     "execution_count": 20,
     "metadata": {},
     "output_type": "execute_result"
    }
   ],
   "source": [
    "np.random.randint(1, 9, size=(5, 5), dtype=np.int16)"
   ]
  },
  {
   "attachments": {},
   "cell_type": "markdown",
   "metadata": {},
   "source": [
    "Функцию randint нельзя запустить совсем без параметров, необходимо указать хотя бы одно число.\n",
    "\n",
    "- Если указан только аргумент low, числа будут генерироваться от 0 до low-1, то есть верхняя граница не включается.\n",
    "- Если задать low и high, числа будут генерироваться от low (включительно) до high (не включительно).\n",
    "- size задаёт форму массива уже привычным для вас образом: одним числом — для одномерного или кортежем — для многомерного.\n",
    "- dtype позволяет задать конкретный тип данных, который должен быть использован в массиве."
   ]
  },
  {
   "attachments": {},
   "cell_type": "markdown",
   "metadata": {},
   "source": [
    "Просто перемешать все числа в массиве позволяет функция **np.random.shuffle**."
   ]
  },
  {
   "cell_type": "code",
   "execution_count": 24,
   "metadata": {},
   "outputs": [
    {
     "name": "stdout",
     "output_type": "stream",
     "text": [
      "[0 1 2 3 4 5]\n",
      "None\n"
     ]
    },
    {
     "data": {
      "text/plain": [
       "array([1, 4, 5, 0, 2, 3])"
      ]
     },
     "execution_count": 24,
     "metadata": {},
     "output_type": "execute_result"
    }
   ],
   "source": [
    "arr = np.arange(6)\n",
    "print(arr)\n",
    "print(np.random.shuffle(arr))\n",
    "arr"
   ]
  },
  {
   "attachments": {},
   "cell_type": "markdown",
   "metadata": {},
   "source": [
    "чтобы создать новый перемешеный масив **np.random.permutation()**"
   ]
  },
  {
   "cell_type": "code",
   "execution_count": 39,
   "metadata": {},
   "outputs": [
    {
     "name": "stdout",
     "output_type": "stream",
     "text": [
      "[3 0 4 1 5 2]\n",
      "['ACDC' 'Pink Floyd' 'Deep Purple' 'The Beatles']\n"
     ]
    }
   ],
   "source": [
    "arr = np.arange(6)\n",
    "new_arr = np.random.permutation(arr)\n",
    "print(new_arr)\n",
    "play_list = [\"The Beatles\", \"Pink Floyd\", \"ACDC\", \"Deep Purple\"]\n",
    "new_play_list = np.random.permutation(play_list)\n",
    "print(new_play_list)"
   ]
  },
  {
   "attachments": {},
   "cell_type": "markdown",
   "metadata": {},
   "source": [
    "Перемешать набор чисел от 0 до n-1 можно с помощью записи **np.random.permutation(n)**, где n — верхняя граница, которая бы использовалась для генерации набора чисел функцией arange."
   ]
  },
  {
   "cell_type": "code",
   "execution_count": 42,
   "metadata": {},
   "outputs": [
    {
     "data": {
      "text/plain": [
       "array([7, 5, 1, 4, 8, 2, 3, 0, 6, 9])"
      ]
     },
     "execution_count": 42,
     "metadata": {},
     "output_type": "execute_result"
    }
   ],
   "source": [
    "np.random.permutation(10)"
   ]
  },
  {
   "attachments": {},
   "cell_type": "markdown",
   "metadata": {},
   "source": [
    "Чтобы получить случайный набор объектов из массива, используется функция **np.random.choice**:\n",
    "\n",
    "choice(a, size=None, replace=True)\n",
    "- a — одномерный массив или число для генерации arange(a);\n",
    "- size — желаемая форма массива (число для получения одномерного массива, кортеж — для многомерного; если параметр не задан, возвращается один объект);\n",
    "- replace — параметр, задающий, могут ли элементы повторяться (по умолчанию могут)."
   ]
  },
  {
   "cell_type": "code",
   "execution_count": 49,
   "metadata": {},
   "outputs": [
    {
     "name": "stdout",
     "output_type": "stream",
     "text": [
      "[['Pink Floyd' 'Deep Purple' 'ACDC']\n",
      " ['ACDC' 'ACDC' 'The Beatles']]\n"
     ]
    }
   ],
   "source": [
    "print(np.random.choice(play_list, size=(2,3), replace=True))"
   ]
  },
  {
   "attachments": {},
   "cell_type": "markdown",
   "metadata": {},
   "source": [
    "### **SEED** "
   ]
  },
  {
   "attachments": {},
   "cell_type": "markdown",
   "metadata": {},
   "source": [
    "Самостоятельно задать seed в NumPy можно с помощью функции **np.random.seed**(<np.uint32>). Число в скобках должно быть в пределах от 0 до 2**32 - 1 (=4294967295)."
   ]
  },
  {
   "cell_type": "code",
   "execution_count": 56,
   "metadata": {},
   "outputs": [
    {
     "name": "stdout",
     "output_type": "stream",
     "text": [
      "[8 8 3]\n",
      "[7 7 0]\n",
      "[4 2 5]\n"
     ]
    }
   ],
   "source": [
    "np.random.seed(100)\n",
    "print(np.random.randint(10, size=(3)))\n",
    "print(np.random.randint(10, size=(3)))\n",
    "print(np.random.randint(10, size=(3)))"
   ]
  }
 ],
 "metadata": {
  "kernelspec": {
   "display_name": "Python 3",
   "language": "python",
   "name": "python3"
  },
  "language_info": {
   "codemirror_mode": {
    "name": "ipython",
    "version": 3
   },
   "file_extension": ".py",
   "mimetype": "text/x-python",
   "name": "python",
   "nbconvert_exporter": "python",
   "pygments_lexer": "ipython3",
   "version": "3.9.13"
  },
  "orig_nbformat": 4,
  "vscode": {
   "interpreter": {
    "hash": "8f8cf99212f81ad0c4765861267244807ee1c18364846cdce387b28994a977ba"
   }
  }
 },
 "nbformat": 4,
 "nbformat_minor": 2
}
