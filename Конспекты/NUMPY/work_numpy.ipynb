{
 "cells": [
  {
   "cell_type": "code",
   "execution_count": 1,
   "metadata": {},
   "outputs": [
    {
     "data": {
      "text/plain": [
       "array([[[  5,  25,  33,  77,  13],\n",
       "        [ 61,  74,  42,   4,  95],\n",
       "        [ 89,  26,  80,  41,  20],\n",
       "        [ 19,  40,  63,  81,   7],\n",
       "        [ 30,  99,  33,  31,  63]],\n",
       "\n",
       "       [[ 68,  57,  45,  84,  65],\n",
       "        [ 30,  85,  94,  36,  96],\n",
       "        [ 24,  41,  13,  88,  84],\n",
       "        [ 26,  78,  66,   8,  82],\n",
       "        [ 92,  44,  31,  21,  91]],\n",
       "\n",
       "       [[  6,   7, 100,  36,   5],\n",
       "        [ 23,  23,  24,  46,   6],\n",
       "        [ 20,  84,  30,   2,  27],\n",
       "        [ 36,  41,  24,  95,   3],\n",
       "        [ 43,  72,  78,  96,  29]]])"
      ]
     },
     "execution_count": 1,
     "metadata": {},
     "output_type": "execute_result"
    }
   ],
   "source": [
    "import numpy as np\n",
    "def get_loto(num):\n",
    "    result = np.random.randint(1, 101, size=(num, 5, 5))\n",
    "    return result\n",
    "get_loto(3)"
   ]
  }
 ],
 "metadata": {
  "kernelspec": {
   "display_name": "Python 3",
   "language": "python",
   "name": "python3"
  },
  "language_info": {
   "codemirror_mode": {
    "name": "ipython",
    "version": 3
   },
   "file_extension": ".py",
   "mimetype": "text/x-python",
   "name": "python",
   "nbconvert_exporter": "python",
   "pygments_lexer": "ipython3",
   "version": "3.9.13"
  },
  "orig_nbformat": 4,
  "vscode": {
   "interpreter": {
    "hash": "8f8cf99212f81ad0c4765861267244807ee1c18364846cdce387b28994a977ba"
   }
  }
 },
 "nbformat": 4,
 "nbformat_minor": 2
}
