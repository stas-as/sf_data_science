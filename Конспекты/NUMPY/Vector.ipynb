{
 "cells": [
  {
   "attachments": {},
   "cell_type": "markdown",
   "metadata": {},
   "source": [
    "## **Vector**\n",
    "база функций:https://pyprog.pro/statistics_functions/statistics_function.html\n",
    "В программировании вектором называют одномерный проиндексированный набор данных, другими словами — одномерный массив."
   ]
  },
  {
   "cell_type": "code",
   "execution_count": 1,
   "metadata": {},
   "outputs": [
    {
     "name": "stdout",
     "output_type": "stream",
     "text": [
      "[14.  10.  10.6 15.5]\n",
      "[24.  24.  25.2 32.5]\n",
      "[120.  60.  36. 130.]\n",
      "[ True  True False  True]\n"
     ]
    }
   ],
   "source": [
    "import numpy as np\n",
    "vec1 = np.array([2, 4, 7, 2.5])\n",
    "vec2 = np.array([12, 6, 3.6, 13])\n",
    "print(vec1 + vec2)\n",
    "print(vec1 * vec2)\n",
    "\n",
    "print(vec2 * 10)\n",
    "print(vec1 < vec2)"
   ]
  },
  {
   "attachments": {},
   "cell_type": "markdown",
   "metadata": {},
   "source": [
    "Посчитаем длину вектора"
   ]
  },
  {
   "cell_type": "code",
   "execution_count": 2,
   "metadata": {},
   "outputs": [
    {
     "name": "stdout",
     "output_type": "stream",
     "text": [
      "5.0\n"
     ]
    }
   ],
   "source": [
    "vec = np.array([3, 4]) \n",
    "\n",
    "lenght = np.sqrt(np.sum(vec ** 2))\n",
    "print(lenght)"
   ]
  },
  {
   "attachments": {},
   "cell_type": "markdown",
   "metadata": {},
   "source": [
    "Но можно было поступить проще. В NumPy есть специальный подмодуль **.linalg**, который позволяет производить операции из линейной алгебры.\n",
    "\n",
    "Для вычисления длины вектора нам потребуется функция **.norm**:"
   ]
  },
  {
   "cell_type": "code",
   "execution_count": 3,
   "metadata": {},
   "outputs": [],
   "source": [
    "lenght = np.linalg.norm(vec)"
   ]
  },
  {
   "attachments": {},
   "cell_type": "markdown",
   "metadata": {},
   "source": [
    "Растояние между векторами\n",
    "Реализуем вычисление расстояния в коде. Сначала — «сложным» способом напрямую из формулы:"
   ]
  },
  {
   "cell_type": "code",
   "execution_count": 4,
   "metadata": {},
   "outputs": [
    {
     "name": "stdout",
     "output_type": "stream",
     "text": [
      "12.206555615733702\n",
      "12.206555615733702\n"
     ]
    }
   ],
   "source": [
    "vec1 = np.array([0, 3, 5])\n",
    "vec2 = np.array([12, 4, 7])\n",
    "distance = np.sqrt(np.sum((vec1 - vec2) ** 2))\n",
    "print(distance)\n",
    "print(np.linalg.norm(vec1 - vec2))"
   ]
  },
  {
   "attachments": {},
   "cell_type": "markdown",
   "metadata": {},
   "source": [
    "**скалярным произведением** двух векторов называют сумму произведений их соответствующих координат.\n",
    "\n",
    "**.dot** - встроеная в нампи функция по находению сколярного произведенния"
   ]
  },
  {
   "cell_type": "code",
   "execution_count": 5,
   "metadata": {},
   "outputs": [
    {
     "name": "stdout",
     "output_type": "stream",
     "text": [
      "250.0\n",
      "250.0\n"
     ]
    }
   ],
   "source": [
    "vec1 = np.arange(1,6)\n",
    "vec2 = np.linspace(10, 20, 5)\n",
    "scalar_product = np.sum(vec1 * vec2)\n",
    "print(scalar_product)\n",
    "print(np.dot(vec1, vec2))"
   ]
  },
  {
   "attachments": {},
   "cell_type": "markdown",
   "metadata": {},
   "source": [
    "Скалярное произведение также имеет широкое применение в математике и других операциях с векторами. В частности, равенство скалярного произведения **нулю** означает **перпендикулярность** рассматриваемых векторов:"
   ]
  },
  {
   "cell_type": "code",
   "execution_count": 6,
   "metadata": {},
   "outputs": [
    {
     "data": {
      "text/plain": [
       "0"
      ]
     },
     "execution_count": 6,
     "metadata": {},
     "output_type": "execute_result"
    }
   ],
   "source": [
    "x = np.array([25, 0])\n",
    "y = np.array([0, 10])\n",
    "np.dot(x, y)"
   ]
  },
  {
   "attachments": {},
   "cell_type": "markdown",
   "metadata": {},
   "source": [
    "ункции np.min и np.max позволяют находить максимальное и минимальное значение в векторе. Их можно записывать как в виде **np.min(<vector>)**, так и в виде **<vector>.min()**:"
   ]
  },
  {
   "cell_type": "code",
   "execution_count": 7,
   "metadata": {},
   "outputs": [
    {
     "name": "stdout",
     "output_type": "stream",
     "text": [
      "1\n",
      "1\n",
      "28\n",
      "28\n"
     ]
    }
   ],
   "source": [
    "vec = np.array([2,7,18,28,18,1,8,4])\n",
    "print(vec.min())\n",
    "print(np.min(vec))\n",
    "print(vec.max())\n",
    "print(np.max(vec))"
   ]
  },
  {
   "attachments": {},
   "cell_type": "markdown",
   "metadata": {},
   "source": [
    "Функция **mean** позволяет посчитать среднее статистическое значение. Больше не требуется реализовывать её «руками»!"
   ]
  },
  {
   "cell_type": "code",
   "execution_count": 8,
   "metadata": {},
   "outputs": [
    {
     "name": "stdout",
     "output_type": "stream",
     "text": [
      "10.75\n",
      "10.75\n"
     ]
    }
   ],
   "source": [
    "print(vec.mean())\n",
    "print(np.mean(vec))"
   ]
  },
  {
   "cell_type": "code",
   "execution_count": 9,
   "metadata": {},
   "outputs": [
    {
     "data": {
      "text/plain": [
       "(5.196152422706632, 5.196152422706632)"
      ]
     },
     "execution_count": 9,
     "metadata": {},
     "output_type": "execute_result"
    }
   ],
   "source": [
    "# Введите свое решение ниже\n",
    "import numpy as np\n",
    "def min_max_dist(*vectors):\n",
    "    line = list()\n",
    "    lens = len(vectors)\n",
    "    vector =vectors[0]\n",
    "    for i in range(1, lens):\n",
    "        line.append(np.linalg.norm(vector - vectors[i]))\n",
    "        vector = vectors[i]\n",
    "    min_dist = min(line)\n",
    "    max_dist = max(line)\n",
    "    return min_dist , max_dist\n",
    "        \n",
    "\n",
    "\n",
    "vec1 = np.array([1,2,3])\n",
    "vec2 = np.array([4,5,6])\n",
    "vec3 = np.array([7, 8, 9])\n",
    "\n",
    "min_max_dist(vec1, vec2, vec3)\n",
    "# (5.196152422706632, 10.392304845413264)\n",
    "\n"
   ]
  }
 ],
 "metadata": {
  "kernelspec": {
   "display_name": "Python 3",
   "language": "python",
   "name": "python3"
  },
  "language_info": {
   "codemirror_mode": {
    "name": "ipython",
    "version": 3
   },
   "file_extension": ".py",
   "mimetype": "text/x-python",
   "name": "python",
   "nbconvert_exporter": "python",
   "pygments_lexer": "ipython3",
   "version": "3.9.13"
  },
  "orig_nbformat": 4,
  "vscode": {
   "interpreter": {
    "hash": "8f8cf99212f81ad0c4765861267244807ee1c18364846cdce387b28994a977ba"
   }
  }
 },
 "nbformat": 4,
 "nbformat_minor": 2
}
