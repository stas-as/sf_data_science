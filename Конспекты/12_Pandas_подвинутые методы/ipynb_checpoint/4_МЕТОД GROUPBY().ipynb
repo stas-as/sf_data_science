{
 "cells": [
  {
   "cell_type": "code",
   "execution_count": 2,
   "metadata": {},
   "outputs": [
    {
     "name": "stdout",
     "output_type": "stream",
     "text": [
      "<class 'pandas.core.frame.DataFrame'>\n",
      "RangeIndex: 13580 entries, 0 to 13579\n",
      "Data columns (total 26 columns):\n",
      " #   Column           Non-Null Count  Dtype         \n",
      "---  ------           --------------  -----         \n",
      " 0   Suburb           13580 non-null  category      \n",
      " 1   Rooms            13580 non-null  int64         \n",
      " 2   Type             13580 non-null  category      \n",
      " 3   Price            13580 non-null  float64       \n",
      " 4   Method           13580 non-null  category      \n",
      " 5   SellerG          13580 non-null  category      \n",
      " 6   Date             13580 non-null  datetime64[ns]\n",
      " 7   Distance         13580 non-null  float64       \n",
      " 8   Postcode         13580 non-null  int64         \n",
      " 9   Bedroom          13580 non-null  int64         \n",
      " 10  Bathroom         13580 non-null  int64         \n",
      " 11  Car              13580 non-null  int64         \n",
      " 12  Landsize         13580 non-null  float64       \n",
      " 13  BuildingArea     13580 non-null  float64       \n",
      " 14  CouncilArea      12211 non-null  category      \n",
      " 15  Lattitude        13580 non-null  float64       \n",
      " 16  Longtitude       13580 non-null  float64       \n",
      " 17  Regionname       13580 non-null  category      \n",
      " 18  Propertycount    13580 non-null  int64         \n",
      " 19  MeanRoomsSquare  13580 non-null  float64       \n",
      " 20  AreaRatio        13580 non-null  float64       \n",
      " 21  MonthSale        13580 non-null  category      \n",
      " 22  AgeBuilding      13580 non-null  int64         \n",
      " 23  WeekdaySale      13580 non-null  category      \n",
      " 24  StreetType       13580 non-null  category      \n",
      " 25  Weekend          13580 non-null  category      \n",
      "dtypes: category(10), datetime64[ns](1), float64(8), int64(7)\n",
      "memory usage: 1.8 MB\n"
     ]
    }
   ],
   "source": [
    "import pandas as pd\n",
    "melb_data_fe = pd.read_csv('data/melb_data_fe.csv')\n",
    "melb_data_fe['Date'] = pd.to_datetime(melb_data_fe['Date'])\n",
    "list_colums = ['Date', 'Rooms', 'Bedroom', 'Bathroom', 'Car']\n",
    "for col in melb_data_fe.columns:\n",
    "    if melb_data_fe[col].nunique() < 150 and col not in list_colums:\n",
    "        melb_data_fe[col] = melb_data_fe[col].astype('category')\n",
    "melb_data_fe.info()\n"
   ]
  },
  {
   "cell_type": "code",
   "execution_count": 8,
   "metadata": {},
   "outputs": [
    {
     "data": {
      "text/html": [
       "<div>\n",
       "<style scoped>\n",
       "    .dataframe tbody tr th:only-of-type {\n",
       "        vertical-align: middle;\n",
       "    }\n",
       "\n",
       "    .dataframe tbody tr th {\n",
       "        vertical-align: top;\n",
       "    }\n",
       "\n",
       "    .dataframe thead th {\n",
       "        text-align: right;\n",
       "    }\n",
       "</style>\n",
       "<table border=\"1\" class=\"dataframe\">\n",
       "  <thead>\n",
       "    <tr style=\"text-align: right;\">\n",
       "      <th></th>\n",
       "      <th>Type</th>\n",
       "      <th>Price</th>\n",
       "    </tr>\n",
       "  </thead>\n",
       "  <tbody>\n",
       "    <tr>\n",
       "      <th>0</th>\n",
       "      <td>house</td>\n",
       "      <td>1.242665e+06</td>\n",
       "    </tr>\n",
       "    <tr>\n",
       "      <th>1</th>\n",
       "      <td>townhouse</td>\n",
       "      <td>9.337351e+05</td>\n",
       "    </tr>\n",
       "    <tr>\n",
       "      <th>2</th>\n",
       "      <td>unit</td>\n",
       "      <td>6.051275e+05</td>\n",
       "    </tr>\n",
       "  </tbody>\n",
       "</table>\n",
       "</div>"
      ],
      "text/plain": [
       "        Type         Price\n",
       "0      house  1.242665e+06\n",
       "1  townhouse  9.337351e+05\n",
       "2       unit  6.051275e+05"
      ]
     },
     "execution_count": 8,
     "metadata": {},
     "output_type": "execute_result"
    }
   ],
   "source": [
    "melb_data_fe.groupby('Type',as_index=False)['Price'].mean()"
   ]
  },
  {
   "attachments": {},
   "cell_type": "markdown",
   "metadata": {},
   "source": [
    "Теперь давайте выясним, какие регионы (Regionname) наиболее удалены от центра Мельбурна.\n",
    "\n",
    "Для этого найдём минимальное значение расстояния от центра города до объекта в зависимости от его региона. Результат отсортируем по убыванию расстояния:"
   ]
  },
  {
   "cell_type": "code",
   "execution_count": 10,
   "metadata": {},
   "outputs": [
    {
     "data": {
      "text/plain": [
       "Regionname\n",
       "Western Victoria              29.8\n",
       "Eastern Victoria              25.2\n",
       "Northern Victoria             21.8\n",
       "South-Eastern Metropolitan    14.7\n",
       "Eastern Metropolitan           7.8\n",
       "Western Metropolitan           4.3\n",
       "Southern Metropolitan          0.7\n",
       "Northern Metropolitan          0.0\n",
       "Name: Distance, dtype: float64"
      ]
     },
     "execution_count": 10,
     "metadata": {},
     "output_type": "execute_result"
    }
   ],
   "source": [
    "melb_data_fe.groupby('Regionname')['Distance'].min().sort_values(ascending=False)"
   ]
  },
  {
   "attachments": {},
   "cell_type": "markdown",
   "metadata": {},
   "source": [
    "Давайте построим таблицу для анализа продаж по месяцам. Для этого найдём количество продаж, а также среднее и максимальное значения цен объектов недвижимости (Price), сгруппированных по номеру месяца продажи (MonthSale). Результат отсортируем по количеству продаж в порядке убывания:"
   ]
  },
  {
   "cell_type": "code",
   "execution_count": 15,
   "metadata": {},
   "outputs": [
    {
     "data": {
      "text/html": [
       "<div>\n",
       "<style scoped>\n",
       "    .dataframe tbody tr th:only-of-type {\n",
       "        vertical-align: middle;\n",
       "    }\n",
       "\n",
       "    .dataframe tbody tr th {\n",
       "        vertical-align: top;\n",
       "    }\n",
       "\n",
       "    .dataframe thead th {\n",
       "        text-align: right;\n",
       "    }\n",
       "</style>\n",
       "<table border=\"1\" class=\"dataframe\">\n",
       "  <thead>\n",
       "    <tr style=\"text-align: right;\">\n",
       "      <th></th>\n",
       "      <th>count</th>\n",
       "      <th>mean</th>\n",
       "      <th>std</th>\n",
       "      <th>min</th>\n",
       "      <th>25%</th>\n",
       "      <th>50%</th>\n",
       "      <th>75%</th>\n",
       "      <th>max</th>\n",
       "    </tr>\n",
       "    <tr>\n",
       "      <th>MonthSale</th>\n",
       "      <th></th>\n",
       "      <th></th>\n",
       "      <th></th>\n",
       "      <th></th>\n",
       "      <th></th>\n",
       "      <th></th>\n",
       "      <th></th>\n",
       "      <th></th>\n",
       "    </tr>\n",
       "  </thead>\n",
       "  <tbody>\n",
       "    <tr>\n",
       "      <th>8</th>\n",
       "      <td>1850.0</td>\n",
       "      <td>1.056371e+06</td>\n",
       "      <td>619617.476541</td>\n",
       "      <td>160000.0</td>\n",
       "      <td>635000.0</td>\n",
       "      <td>892000.0</td>\n",
       "      <td>1310000.0</td>\n",
       "      <td>6500000.0</td>\n",
       "    </tr>\n",
       "    <tr>\n",
       "      <th>7</th>\n",
       "      <td>1835.0</td>\n",
       "      <td>9.314698e+05</td>\n",
       "      <td>537390.803161</td>\n",
       "      <td>190000.0</td>\n",
       "      <td>586750.0</td>\n",
       "      <td>800000.0</td>\n",
       "      <td>1150000.0</td>\n",
       "      <td>9000000.0</td>\n",
       "    </tr>\n",
       "    <tr>\n",
       "      <th>5</th>\n",
       "      <td>1644.0</td>\n",
       "      <td>1.097807e+06</td>\n",
       "      <td>668492.867996</td>\n",
       "      <td>145000.0</td>\n",
       "      <td>650000.0</td>\n",
       "      <td>905000.0</td>\n",
       "      <td>1371250.0</td>\n",
       "      <td>8000000.0</td>\n",
       "    </tr>\n",
       "    <tr>\n",
       "      <th>6</th>\n",
       "      <td>1469.0</td>\n",
       "      <td>1.068981e+06</td>\n",
       "      <td>606010.069052</td>\n",
       "      <td>222000.0</td>\n",
       "      <td>660000.0</td>\n",
       "      <td>900000.0</td>\n",
       "      <td>1325000.0</td>\n",
       "      <td>7650000.0</td>\n",
       "    </tr>\n",
       "    <tr>\n",
       "      <th>3</th>\n",
       "      <td>1408.0</td>\n",
       "      <td>1.146762e+06</td>\n",
       "      <td>709573.596867</td>\n",
       "      <td>85000.0</td>\n",
       "      <td>680000.0</td>\n",
       "      <td>945000.0</td>\n",
       "      <td>1400000.0</td>\n",
       "      <td>5600000.0</td>\n",
       "    </tr>\n",
       "    <tr>\n",
       "      <th>4</th>\n",
       "      <td>1246.0</td>\n",
       "      <td>1.050479e+06</td>\n",
       "      <td>591892.902979</td>\n",
       "      <td>145000.0</td>\n",
       "      <td>655000.0</td>\n",
       "      <td>905500.0</td>\n",
       "      <td>1298750.0</td>\n",
       "      <td>5500000.0</td>\n",
       "    </tr>\n",
       "    <tr>\n",
       "      <th>9</th>\n",
       "      <td>1188.0</td>\n",
       "      <td>1.126349e+06</td>\n",
       "      <td>608734.690742</td>\n",
       "      <td>170000.0</td>\n",
       "      <td>725000.0</td>\n",
       "      <td>980000.0</td>\n",
       "      <td>1360000.0</td>\n",
       "      <td>6400000.0</td>\n",
       "    </tr>\n",
       "    <tr>\n",
       "      <th>10</th>\n",
       "      <td>854.0</td>\n",
       "      <td>1.135970e+06</td>\n",
       "      <td>692950.251627</td>\n",
       "      <td>250000.0</td>\n",
       "      <td>652625.0</td>\n",
       "      <td>950000.0</td>\n",
       "      <td>1416500.0</td>\n",
       "      <td>6250000.0</td>\n",
       "    </tr>\n",
       "    <tr>\n",
       "      <th>11</th>\n",
       "      <td>750.0</td>\n",
       "      <td>1.142503e+06</td>\n",
       "      <td>703666.227892</td>\n",
       "      <td>240000.0</td>\n",
       "      <td>671750.0</td>\n",
       "      <td>950000.0</td>\n",
       "      <td>1399125.0</td>\n",
       "      <td>5050000.0</td>\n",
       "    </tr>\n",
       "    <tr>\n",
       "      <th>12</th>\n",
       "      <td>725.0</td>\n",
       "      <td>1.144737e+06</td>\n",
       "      <td>706549.007161</td>\n",
       "      <td>250000.0</td>\n",
       "      <td>667500.0</td>\n",
       "      <td>938000.0</td>\n",
       "      <td>1412000.0</td>\n",
       "      <td>5700000.0</td>\n",
       "    </tr>\n",
       "    <tr>\n",
       "      <th>2</th>\n",
       "      <td>333.0</td>\n",
       "      <td>1.169051e+06</td>\n",
       "      <td>671564.357417</td>\n",
       "      <td>131000.0</td>\n",
       "      <td>710000.0</td>\n",
       "      <td>1020000.0</td>\n",
       "      <td>1478000.0</td>\n",
       "      <td>4735000.0</td>\n",
       "    </tr>\n",
       "    <tr>\n",
       "      <th>1</th>\n",
       "      <td>278.0</td>\n",
       "      <td>9.397921e+05</td>\n",
       "      <td>577668.924214</td>\n",
       "      <td>170000.0</td>\n",
       "      <td>570500.0</td>\n",
       "      <td>795000.0</td>\n",
       "      <td>1111250.0</td>\n",
       "      <td>5200000.0</td>\n",
       "    </tr>\n",
       "  </tbody>\n",
       "</table>\n",
       "</div>"
      ],
      "text/plain": [
       "            count          mean            std       min       25%        50%  \\\n",
       "MonthSale                                                                       \n",
       "8          1850.0  1.056371e+06  619617.476541  160000.0  635000.0   892000.0   \n",
       "7          1835.0  9.314698e+05  537390.803161  190000.0  586750.0   800000.0   \n",
       "5          1644.0  1.097807e+06  668492.867996  145000.0  650000.0   905000.0   \n",
       "6          1469.0  1.068981e+06  606010.069052  222000.0  660000.0   900000.0   \n",
       "3          1408.0  1.146762e+06  709573.596867   85000.0  680000.0   945000.0   \n",
       "4          1246.0  1.050479e+06  591892.902979  145000.0  655000.0   905500.0   \n",
       "9          1188.0  1.126349e+06  608734.690742  170000.0  725000.0   980000.0   \n",
       "10          854.0  1.135970e+06  692950.251627  250000.0  652625.0   950000.0   \n",
       "11          750.0  1.142503e+06  703666.227892  240000.0  671750.0   950000.0   \n",
       "12          725.0  1.144737e+06  706549.007161  250000.0  667500.0   938000.0   \n",
       "2           333.0  1.169051e+06  671564.357417  131000.0  710000.0  1020000.0   \n",
       "1           278.0  9.397921e+05  577668.924214  170000.0  570500.0   795000.0   \n",
       "\n",
       "                 75%        max  \n",
       "MonthSale                        \n",
       "8          1310000.0  6500000.0  \n",
       "7          1150000.0  9000000.0  \n",
       "5          1371250.0  8000000.0  \n",
       "6          1325000.0  7650000.0  \n",
       "3          1400000.0  5600000.0  \n",
       "4          1298750.0  5500000.0  \n",
       "9          1360000.0  6400000.0  \n",
       "10         1416500.0  6250000.0  \n",
       "11         1399125.0  5050000.0  \n",
       "12         1412000.0  5700000.0  \n",
       "2          1478000.0  4735000.0  \n",
       "1          1111250.0  5200000.0  "
      ]
     },
     "execution_count": 15,
     "metadata": {},
     "output_type": "execute_result"
    }
   ],
   "source": [
    "melb_data_fe.groupby('MonthSale')['Price'].agg('describe').sort_values('count',ascending=False)"
   ]
  },
  {
   "attachments": {},
   "cell_type": "markdown",
   "metadata": {},
   "source": [
    "Сгруппируйте данные по признаку количества комнат и найдите среднюю цену объектов недвижимости в каждой группе. В качестве ответа запишите количество комнат, для которых средняя цена наибольшая."
   ]
  },
  {
   "cell_type": "code",
   "execution_count": 23,
   "metadata": {},
   "outputs": [
    {
     "data": {
      "text/plain": [
       "7"
      ]
     },
     "execution_count": 23,
     "metadata": {},
     "output_type": "execute_result"
    }
   ],
   "source": [
    "melb_data_fe.groupby('Rooms')['Price'].mean().sort_values(ascending=False).index[0]"
   ]
  },
  {
   "attachments": {},
   "cell_type": "markdown",
   "metadata": {},
   "source": [
    "Какой регион имеет наименьшее стандартное отклонение по географической широте (Lattitude)?\n",
    "В качестве ответа запишите название этого региона."
   ]
  },
  {
   "cell_type": "code",
   "execution_count": 33,
   "metadata": {},
   "outputs": [
    {
     "data": {
      "text/plain": [
       "'Western Victoria'"
      ]
     },
     "execution_count": 33,
     "metadata": {},
     "output_type": "execute_result"
    }
   ],
   "source": [
    "melb_data_fe.groupby('Regionname')['Lattitude'].std().sort_values().index[0]"
   ]
  },
  {
   "attachments": {},
   "cell_type": "markdown",
   "metadata": {},
   "source": [
    "Какая риелторская компания (SellerG) имеет наименьшую общую выручку за период с 1 мая по 1 сентября (включительно) 2017 года?\n",
    "Для ответа на этот вопрос рассчитайте сумму продаж (Price) каждой компании в заданный период.\n",
    "Не забудьте перевести даты в формат datetime."
   ]
  },
  {
   "cell_type": "code",
   "execution_count": 37,
   "metadata": {},
   "outputs": [
    {
     "data": {
      "text/plain": [
       "0       2016-03-12\n",
       "1       2016-04-02\n",
       "2       2017-04-03\n",
       "3       2017-04-03\n",
       "4       2016-04-06\n",
       "           ...    \n",
       "13575   2017-08-26\n",
       "13576   2017-08-26\n",
       "13577   2017-08-26\n",
       "13578   2017-08-26\n",
       "13579   2017-08-26\n",
       "Name: Date, Length: 13580, dtype: datetime64[ns]"
      ]
     },
     "execution_count": 37,
     "metadata": {},
     "output_type": "execute_result"
    }
   ],
   "source": [
    "melb_data_fe['Date']\n"
   ]
  },
  {
   "cell_type": "code",
   "execution_count": 55,
   "metadata": {},
   "outputs": [
    {
     "data": {
      "text/plain": [
       "'LITTLE'"
      ]
     },
     "execution_count": 55,
     "metadata": {},
     "output_type": "execute_result"
    }
   ],
   "source": [
    "melb_data_fe['Date'][0] < melb_data_fe['Date'][1]\n",
    "time1 = pd.to_datetime('2017-05-01')\n",
    "time2 = pd.to_datetime('2017-09-01')\n",
    "mask1 = time1 <= melb_data_fe['Date']\n",
    "mask2 = melb_data_fe['Date'] <= time2\n",
    "melb_data_fe[mask1 & mask2].groupby('SellerG')['Price'].sum().sort_values().index[0]"
   ]
  }
 ],
 "metadata": {
  "kernelspec": {
   "display_name": "Python 3",
   "language": "python",
   "name": "python3"
  },
  "language_info": {
   "codemirror_mode": {
    "name": "ipython",
    "version": 3
   },
   "file_extension": ".py",
   "mimetype": "text/x-python",
   "name": "python",
   "nbconvert_exporter": "python",
   "pygments_lexer": "ipython3",
   "version": "3.9.13"
  },
  "orig_nbformat": 4,
  "vscode": {
   "interpreter": {
    "hash": "8f8cf99212f81ad0c4765861267244807ee1c18364846cdce387b28994a977ba"
   }
  }
 },
 "nbformat": 4,
 "nbformat_minor": 2
}
