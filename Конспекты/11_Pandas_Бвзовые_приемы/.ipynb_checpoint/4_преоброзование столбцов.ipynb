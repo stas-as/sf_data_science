{
 "cells": [
  {
   "attachments": {},
   "cell_type": "markdown",
   "metadata": {},
   "source": [
    "- **apply()**\n",
    "- **.nlargest()**\n",
    "- **nunique()**\n",
    "\n",
    "Теперь применим эту функцию к столбцу c адресом. Для этого передадим функцию get_street_type в аргумент метода столбца **apply()**. В результате получим объект Series, который положим в переменную street_types:"
   ]
  },
  {
   "cell_type": "code",
   "execution_count": 1,
   "metadata": {},
   "outputs": [],
   "source": [
    "import pandas as pd\n",
    "melb_data = pd.read_csv('data/melb_data.csv',sep=',')\n",
    "melb_df = melb_data.copy()"
   ]
  },
  {
   "cell_type": "code",
   "execution_count": 2,
   "metadata": {},
   "outputs": [
    {
     "name": "stdout",
     "output_type": "stream",
     "text": [
      "13378\n"
     ]
    },
    {
     "data": {
      "text/plain": [
       "St           8012\n",
       "Rd           2825\n",
       "Ct            612\n",
       "Dr            447\n",
       "Av            321\n",
       "Gr            311\n",
       "Pde           211\n",
       "Pl            169\n",
       "Cr            152\n",
       "Cl            100\n",
       "La             67\n",
       "Bvd            53\n",
       "Tce            47\n",
       "Wy             40\n",
       "Avenue         40\n",
       "Cct            25\n",
       "Hwy            24\n",
       "Parade         15\n",
       "Boulevard      13\n",
       "Sq             11\n",
       "Crescent        9\n",
       "Cir             7\n",
       "Strand          7\n",
       "Esplanade       6\n",
       "Grove           5\n",
       "Gdns            4\n",
       "Grn             4\n",
       "Fairway         4\n",
       "Mews            4\n",
       "Crossway        3\n",
       "Righi           3\n",
       "Victoria        2\n",
       "Ridge           2\n",
       "Crofts          2\n",
       "Esp             2\n",
       "Glade           1\n",
       "Gra             1\n",
       "Ave             1\n",
       "Woodland        1\n",
       "Outlook         1\n",
       "Hts             1\n",
       "Highway         1\n",
       "Athol           1\n",
       "Summit          1\n",
       "Grand           1\n",
       "Res             1\n",
       "Nook            1\n",
       "Eyrie           1\n",
       "Dell            1\n",
       "East            1\n",
       "Loop            1\n",
       "Grange          1\n",
       "Terrace         1\n",
       "Cove            1\n",
       "Qy              1\n",
       "Corso           1\n",
       "Name: Address, dtype: int64"
      ]
     },
     "execution_count": 2,
     "metadata": {},
     "output_type": "execute_result"
    }
   ],
   "source": [
    "print(melb_df['Address'].nunique())\n",
    "def get_street_type(address):\n",
    "    exclude_list = ['N', 'S', 'W', 'E']\n",
    "    address_split = address.split(' ')\n",
    "    street_type = address_split[-1]\n",
    "    if street_type in exclude_list:\n",
    "        street_type = address_split[-2]\n",
    "    return street_type\n",
    "#def get_street_type(address):\n",
    "#    exclude_list = ['N', 'S', 'W', 'E']\n",
    "#    address_list = address.split(' ')\n",
    "#    street_type = address_list[-1]\n",
    "#    if street_type in exclude_list:\n",
    "#        street_type = address_list[-2]\n",
    "#    return street_type\n",
    "stret_types = melb_df['Address'].apply(get_street_type)\n",
    "stret_types.value_counts()"
   ]
  },
  {
   "attachments": {},
   "cell_type": "markdown",
   "metadata": {},
   "source": [
    "**.nlargest()**\n",
    "\n",
    "Для этого к результату метода value_counts применим метод nlargest(), который возвращает n наибольших значений из Series. Зададим n=10, т. е. мы хотим отобрать десять наиболее популярных подтипов. Извлечём их названия с помощью атрибута index, а результат занесём в переменную popular_stypes:"
   ]
  },
  {
   "cell_type": "code",
   "execution_count": 3,
   "metadata": {},
   "outputs": [
    {
     "data": {
      "text/plain": [
       "Index(['St', 'Rd', 'Ct', 'Dr', 'Av', 'Gr', 'Pde', 'Pl', 'Cr', 'Cl'], dtype='object')"
      ]
     },
     "execution_count": 3,
     "metadata": {},
     "output_type": "execute_result"
    }
   ],
   "source": [
    "poplar_types = stret_types.value_counts().nlargest(10).index\n",
    "poplar_types"
   ]
  },
  {
   "cell_type": "code",
   "execution_count": 4,
   "metadata": {},
   "outputs": [
    {
     "name": "stdout",
     "output_type": "stream",
     "text": [
      "0           St\n",
      "1           St\n",
      "2           St\n",
      "3        other\n",
      "4           St\n",
      "         ...  \n",
      "13575       Cr\n",
      "13576       Dr\n",
      "13577       St\n",
      "13578       St\n",
      "13579       St\n",
      "Name: StreetType, Length: 13580, dtype: object\n",
      "11\n"
     ]
    }
   ],
   "source": [
    "melb_df['StreetType'] = stret_types.apply(lambda x: x if x in poplar_types else 'other')\n",
    "print(melb_df['StreetType'])\n",
    "print(melb_df['StreetType'].nunique())"
   ]
  },
  {
   "cell_type": "code",
   "execution_count": null,
   "metadata": {},
   "outputs": [],
   "source": [
    "WeekdaySale = melb_df['WeekdaySale'] = melb_df['Date'].dt.dayofweek\n",
    "WeekdaySale\n",
    "def weekends(dayofweek):\n",
    "    weekends_number = [5 , 6]\n",
    "    if dayofweek in weekends_number:\n",
    "        result = 1\n",
    "    else:\n",
    "        result = 0\n",
    "    return result\n",
    "melb_df['Weekend'] = WeekdaySale.apply(weekends)\n",
    "melb_df['Weekend']\n",
    "melb_df[melb_df['Weekend'] == 1]['Price'].mean()"
   ]
  },
  {
   "attachments": {},
   "cell_type": "markdown",
   "metadata": {},
   "source": [
    "**.nlargest**\n",
    "\n",
    "Преобразуйте столбец SellerG с наименованиями риелторских компаний в таблице melb_df следующим образом: оставьте в столбце только 49 самых популярных компаний, а остальные обозначьте как 'other'.\n",
    "Найдите, во сколько раз минимальная цена объектов недвижимости, проданных компанией 'Nelson', больше минимальной цены объектов, проданных компаниями, обозначенными как 'other'. Ответ округлите до десятых."
   ]
  },
  {
   "cell_type": "code",
   "execution_count": 16,
   "metadata": {},
   "outputs": [
    {
     "name": "stdout",
     "output_type": "stream",
     "text": [
      "1.3\n"
     ]
    }
   ],
   "source": [
    "poplur_sellerg = melb_df['SellerG'].value_counts().nlargest(49).index\n",
    "# создал список из 49 самых популярных компаний\n",
    "melb_df['SellerG'] = melb_df['SellerG'].apply(lambda x: x if x in poplur_sellerg else 'other')\n",
    "# применил ламду функцию для перебора всех реелторских компаний если они в не списке то получают новое значение \"другие\" \n",
    "Min_Price_Nelson = melb_df[melb_df['SellerG'] == 'Nelson']['Price'].min() \n",
    "# c самого начала вначале применяем маску на компании нелсон после изи оставшихся сделок выводим минимальную цену\n",
    "Min_Price_Other = melb_df[melb_df['SellerG'] == 'other']['Price'].min()\n",
    "# применяем маску для списка других риелторских компаний ,выводим минимальную цену совершонных сделок\n",
    "print(round(Min_Price_Nelson / Min_Price_Other,1))\n",
    "# делим минимальную цуну нелсона на минимальную цену всех других компаний и округляем до 10х"
   ]
  },
  {
   "cell_type": "code",
   "execution_count": 31,
   "metadata": {},
   "outputs": [
    {
     "data": {
      "text/plain": [
       "0    99\n",
       "1    36\n",
       "2    12\n",
       "3     0\n",
       "4    72\n",
       "dtype: int64"
      ]
     },
     "execution_count": 31,
     "metadata": {},
     "output_type": "execute_result"
    }
   ],
   "source": [
    "df = pd.Series(['Опыт работы 8 лет 3 месяца', 'опыт работы 3 года 5 месецев', 'опыт работы 1 год 9 месецев', 'опыт работы 3 месеца', 'опыт работы 6 лет'])\n",
    "def get_experience(arg):\n",
    "    month_list = ['месеца', 'месецев', 'месец']\n",
    "    years_list = ['год','года','лет']\n",
    "    arg_list = arg.split(' ')\n",
    "    len_list = len(arg_list)\n",
    "    count = 0\n",
    "    if len_list == 6:\n",
    "        count = int(arg_list[-2]) + (int(arg_list[-4]) * 12)\n",
    "        return count\n",
    "    else:\n",
    "        if arg_list[-1] in years_list:\n",
    "            count = int(arg_list[-2]) * 12\n",
    "            return count\n",
    "        else:\n",
    "            count = int(arg_list[-2])\n",
    "            return count\n",
    "\n",
    "def get_experience1(arg):\n",
    "    month_key_words = ['месяц', 'месяцев', 'месяца']\n",
    "    year_key_words = ['год', 'лет', 'года']\n",
    "    args_splited = arg.split(' ')\n",
    "    month = 0\n",
    "    year = 0\n",
    "    for i in range(len(args_splited)):\n",
    "        if args_splited[i] in month_key_words:\n",
    "            month = args_splited[i-1]\n",
    "        if args_splited[i] in year_key_words:\n",
    "            year = args_splited[i-1]\n",
    "    return int(year)*12 + int(month)\n",
    "df.apply(get_experience1)"
   ]
  },
  {
   "cell_type": "code",
   "execution_count": 32,
   "metadata": {},
   "outputs": [
    {
     "data": {
      "text/plain": [
       "99"
      ]
     },
     "execution_count": 32,
     "metadata": {},
     "output_type": "execute_result"
    }
   ],
   "source": [
    "a = 'Опыт работы 8 лет 3 месяца'\n",
    "b = a.split(' ')\n",
    "count = int(b[-2]) + (int(b[-4]) * 12)\n",
    "count"
   ]
  }
 ],
 "metadata": {
  "kernelspec": {
   "display_name": "Python 3",
   "language": "python",
   "name": "python3"
  },
  "language_info": {
   "codemirror_mode": {
    "name": "ipython",
    "version": 3
   },
   "file_extension": ".py",
   "mimetype": "text/x-python",
   "name": "python",
   "nbconvert_exporter": "python",
   "pygments_lexer": "ipython3",
   "version": "3.9.13"
  },
  "orig_nbformat": 4,
  "vscode": {
   "interpreter": {
    "hash": "8f8cf99212f81ad0c4765861267244807ee1c18364846cdce387b28994a977ba"
   }
  }
 },
 "nbformat": 4,
 "nbformat_minor": 2
}
