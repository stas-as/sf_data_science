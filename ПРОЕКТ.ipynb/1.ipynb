{
 "cells": [
  {
   "cell_type": "code",
   "execution_count": 16,
   "metadata": {},
   "outputs": [
    {
     "data": {
      "text/plain": [
       "1"
      ]
     },
     "metadata": {},
     "output_type": "display_data"
    },
    {
     "data": {
      "text/plain": [
       "25"
      ]
     },
     "metadata": {},
     "output_type": "display_data"
    }
   ],
   "source": [
    "import pandas as pd\n",
    "import numpy as np\n",
    "a = np.arange(1,101)\n",
    "box = np.random.permutation(a)\n",
    "box = pd.Series(box)\n",
    "result = np.random.permutation(a)\n",
    "result = pd.Series(result)\n",
    "result_box = pd.DataFrame({\n",
    "    'man': a,\n",
    "    'box': box,\n",
    "    'result': result\n",
    "})\n",
    "\n",
    "for i in result_box['man']: #i = \n",
    "    count_man = 0 \n",
    "    error = False\n",
    "    boxe = i   # сразу идет к своему номеру\n",
    "    count = 0\n",
    "    resul = None \n",
    "    while resul != i: \n",
    "        resul = result_box[result_box['box'] == boxe].iloc[0,2]\n",
    "        boxe = resul\n",
    "        count += 1\n",
    "        if count > 50:\n",
    "            error = True\n",
    "            display('больше 50 раз')\n",
    "            break\n",
    "        if resul == i:\n",
    "            count_man +=1\n",
    "    if error == True:\n",
    "        break\n",
    "display(count_man)\n",
    "display(count)"
   ]
  }
 ],
 "metadata": {
  "kernelspec": {
   "display_name": "Python 3",
   "language": "python",
   "name": "python3"
  },
  "language_info": {
   "codemirror_mode": {
    "name": "ipython",
    "version": 3
   },
   "file_extension": ".py",
   "mimetype": "text/x-python",
   "name": "python",
   "nbconvert_exporter": "python",
   "pygments_lexer": "ipython3",
   "version": "3.9.13"
  },
  "orig_nbformat": 4
 },
 "nbformat": 4,
 "nbformat_minor": 2
}
