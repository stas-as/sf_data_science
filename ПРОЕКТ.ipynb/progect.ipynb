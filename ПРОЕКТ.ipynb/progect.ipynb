{
 "cells": [
  {
   "cell_type": "code",
   "execution_count": 123,
   "metadata": {},
   "outputs": [
    {
     "data": {
      "text/plain": [
       "33.5"
      ]
     },
     "metadata": {},
     "output_type": "display_data"
    }
   ],
   "source": [
    "import pandas as pd\n",
    "import numpy as np \n",
    "#np.random.seed(100)\n",
    "def random_size(num):\n",
    "    count_mean = 0\n",
    "    num1 = num\n",
    "    while num > 0:\n",
    "        num -= 1\n",
    "        a = np.arange(1,101)\n",
    "        box = np.random.permutation(a)\n",
    "        box = pd.Series(box)\n",
    "        result = np.random.permutation(a)\n",
    "        result = pd.Series(result)\n",
    "        result_box = pd.DataFrame({\n",
    "            'man': a,\n",
    "            'box': box,\n",
    "            'result': result\n",
    "        })\n",
    "\n",
    "        for i in result_box['man']:\n",
    "            count_man = 0\n",
    "            error = False\n",
    "            boxe = i\n",
    "            count = 0\n",
    "            resul = None\n",
    "            while resul != i:\n",
    "                resul = result_box[result_box['box'] == boxe].iloc[0,2]\n",
    "                boxe = resul\n",
    "                count += 1\n",
    "                if count > 50:\n",
    "                    error = True\n",
    "                    break\n",
    "                if resul == i:\n",
    "                    count_man +=1\n",
    "            if error == True:\n",
    "                break\n",
    "        if  error == False:\n",
    "            count_mean += 1\n",
    "        prozent = count_mean / num1 * 100\n",
    "       \n",
    "    return prozent\n",
    "display(random_size(200))\n"
   ]
  }
 ],
 "metadata": {
  "kernelspec": {
   "display_name": "Python 3",
   "language": "python",
   "name": "python3"
  },
  "language_info": {
   "codemirror_mode": {
    "name": "ipython",
    "version": 3
   },
   "file_extension": ".py",
   "mimetype": "text/x-python",
   "name": "python",
   "nbconvert_exporter": "python",
   "pygments_lexer": "ipython3",
   "version": "3.9.13"
  },
  "orig_nbformat": 4
 },
 "nbformat": 4,
 "nbformat_minor": 2
}
