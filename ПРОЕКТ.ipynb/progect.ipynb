{
 "cells": [
  {
   "cell_type": "code",
   "execution_count": 102,
   "metadata": {},
   "outputs": [
    {
     "ename": "UnboundLocalError",
     "evalue": "local variable 'resul' referenced before assignment",
     "output_type": "error",
     "traceback": [
      "\u001b[1;31m---------------------------------------------------------------------------\u001b[0m",
      "\u001b[1;31mUnboundLocalError\u001b[0m                         Traceback (most recent call last)",
      "Cell \u001b[1;32mIn[102], line 38\u001b[0m\n\u001b[0;32m     36\u001b[0m         prozent \u001b[39m=\u001b[39m count_mean \u001b[39m/\u001b[39m num \u001b[39m*\u001b[39m \u001b[39m100\u001b[39m\n\u001b[0;32m     37\u001b[0m     \u001b[39mreturn\u001b[39;00m prozent\n\u001b[1;32m---> 38\u001b[0m display(random_size(\u001b[39m100\u001b[39;49m))\n",
      "Cell \u001b[1;32mIn[102], line 23\u001b[0m, in \u001b[0;36mrandom_size\u001b[1;34m(num)\u001b[0m\n\u001b[0;32m     21\u001b[0m boxe \u001b[39m=\u001b[39m i\n\u001b[0;32m     22\u001b[0m count \u001b[39m=\u001b[39m \u001b[39m0\u001b[39m\n\u001b[1;32m---> 23\u001b[0m \u001b[39mwhile\u001b[39;00m resul \u001b[39m!=\u001b[39m i:\n\u001b[0;32m     24\u001b[0m     resul \u001b[39m=\u001b[39m result_box[result_box[\u001b[39m'\u001b[39m\u001b[39mbox\u001b[39m\u001b[39m'\u001b[39m] \u001b[39m==\u001b[39m boxe]\u001b[39m.\u001b[39miloc[\u001b[39m0\u001b[39m,\u001b[39m2\u001b[39m]\n\u001b[0;32m     25\u001b[0m     boxe \u001b[39m=\u001b[39m resul\n",
      "\u001b[1;31mUnboundLocalError\u001b[0m: local variable 'resul' referenced before assignment"
     ]
    }
   ],
   "source": [
    "import pandas as pd\n",
    "import numpy as np \n",
    "#np.random.seed(100)\n",
    "def random_size(num):\n",
    "    count_mean = 0\n",
    "    for com in range(num):\n",
    "        a = np.arange(1,101)\n",
    "        box = np.random.permutation(a)\n",
    "        box = pd.Series(box)\n",
    "        result = np.random.permutation(a)\n",
    "        result = pd.Series(result)\n",
    "        result_box = pd.DataFrame({\n",
    "            'man': a,\n",
    "            'box': box,\n",
    "            'result': result\n",
    "        })\n",
    "\n",
    "        for i in result_box['man']:\n",
    "            count_man = 0\n",
    "            error = False\n",
    "            boxe = i\n",
    "            count = 0\n",
    "            while resul != i:\n",
    "                resul = result_box[result_box['box'] == boxe].iloc[0,2]\n",
    "                boxe = resul\n",
    "                count += 1\n",
    "                if count > 50:\n",
    "                    error = True\n",
    "                    break\n",
    "                if resul == i:\n",
    "                    count_man +=1\n",
    "            if error == True:\n",
    "                break\n",
    "        if count_man == 100:\n",
    "            count_mean += 1\n",
    "        prozent = count_mean / num * 100\n",
    "    return prozent\n",
    "display(random_size(100))\n"
   ]
  }
 ],
 "metadata": {
  "kernelspec": {
   "display_name": "Python 3",
   "language": "python",
   "name": "python3"
  },
  "language_info": {
   "codemirror_mode": {
    "name": "ipython",
    "version": 3
   },
   "file_extension": ".py",
   "mimetype": "text/x-python",
   "name": "python",
   "nbconvert_exporter": "python",
   "pygments_lexer": "ipython3",
   "version": "3.9.13"
  },
  "orig_nbformat": 4
 },
 "nbformat": 4,
 "nbformat_minor": 2
}
